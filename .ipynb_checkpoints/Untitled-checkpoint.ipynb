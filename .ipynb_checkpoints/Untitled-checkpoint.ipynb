{
 "cells": [
  {
   "cell_type": "markdown",
   "id": "4050da69",
   "metadata": {},
   "source": [
    "# <img align=\"left\" src=\"./images/film_strip_vertical.png\"     style=\" width:40px;  \" > Content-Based Filtering using Deep Learning\n",
    "\n",
    "We will implement content-based filtering using a neural network to build a recommender system for movies. \n",
    "\n",
    "\n",
    "# Outline\n",
    "- [ 1 - Packages ](#1)\n",
    "- [ 2 - Movie ratings dataset ](#2)\n",
    "- [ 3 - Content-based filtering with a neural network](#3)\n",
    "  - [ 3.1 Training Data](#3.1)\n",
    "  - [ 3.2 Preparing the training data](#3.2)\n",
    "- [ 4 - Neural Network for content-based filtering](#4)\n",
    "- [ 5 - Predictions](#5)\n",
    "  - [ 5.1 - Predictions for a new user](#5.1)\n",
    "  - [ 5.2 - Predictions for an existing user.](#5.2)\n",
    "  - [ 5.3 - Finding Similar Items](#5.3)\n"
   ]
  },
  {
   "cell_type": "markdown",
   "id": "2530b9f0",
   "metadata": {},
   "source": [
    "## 1 - Packages\n",
    "\n",
    "We will use familiar packages, NumPy, TensorFlow and helpful routines from [scikit-learn](https://scikit-learn.org/stable/). We will also use [tabulate](https://pypi.org/project/tabulate/) to neatly print tables and [Pandas](https://pandas.pydata.org/) to organize tabular data."
   ]
  },
  {
   "cell_type": "code",
   "execution_count": 7,
   "id": "89718365",
   "metadata": {},
   "outputs": [],
   "source": [
    "import numpy as np\n",
    "import numpy.ma as ma\n",
    "import pandas as pd\n",
    "import tensorflow as tf\n",
    "from tensorflow import keras\n",
    "from sklearn.preprocessing import StandardScaler, MinMaxScaler\n",
    "from sklearn.model_selection import train_test_split\n",
    "import tabulate\n",
    "pd.set_option(\"display.precision\", 1)"
   ]
  },
  {
   "cell_type": "code",
   "execution_count": null,
   "id": "fe36ccfa",
   "metadata": {},
   "outputs": [],
   "source": []
  },
  {
   "cell_type": "code",
   "execution_count": null,
   "id": "8044f008",
   "metadata": {},
   "outputs": [],
   "source": []
  },
  {
   "cell_type": "code",
   "execution_count": null,
   "id": "cdd0cea6",
   "metadata": {},
   "outputs": [],
   "source": []
  },
  {
   "cell_type": "code",
   "execution_count": null,
   "id": "cc9ac062",
   "metadata": {},
   "outputs": [],
   "source": []
  }
 ],
 "metadata": {
  "kernelspec": {
   "display_name": "Python 3 (ipykernel)",
   "language": "python",
   "name": "python3"
  },
  "language_info": {
   "codemirror_mode": {
    "name": "ipython",
    "version": 3
   },
   "file_extension": ".py",
   "mimetype": "text/x-python",
   "name": "python",
   "nbconvert_exporter": "python",
   "pygments_lexer": "ipython3",
   "version": "3.11.7"
  }
 },
 "nbformat": 4,
 "nbformat_minor": 5
}
